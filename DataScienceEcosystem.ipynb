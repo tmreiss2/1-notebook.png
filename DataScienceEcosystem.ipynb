{
 "cells": [
  {
   "cell_type": "markdown",
   "id": "e95bdc04-4e41-4715-a40f-57c5b9fd6423",
   "metadata": {},
   "source": [
    "<h1>Data Science Tools and Ecosystem</h1>"
   ]
  },
  {
   "cell_type": "markdown",
   "id": "51358214-1e2f-4646-aa6d-413296af58fd",
   "metadata": {},
   "source": [
    "<h1>Data Science Tools and Ecosystem</h1>"
   ]
  },
  {
   "cell_type": "markdown",
   "id": "58c06b39-df0b-4654-9674-063411e45335",
   "metadata": {},
   "source": [
    "In this notebook, Data Science Tools and Ecosystem are summarized."
   ]
  },
  {
   "cell_type": "markdown",
   "id": "06cc58fa-5ae7-4095-8df4-9a3a6be21c6e",
   "metadata": {},
   "source": [
    "Bold text:**Objectives**"
   ]
  },
  {
   "cell_type": "markdown",
   "id": "b372e3cb-77b2-470c-a78d-0349fee57d59",
   "metadata": {},
   "source": [
    "<ul>\n",
    "  <li>Identify Programming Languages</li>\n",
    "  <li>Identify Common Libraries</li>\n",
    "  <li>Identify Data Science Tools</li>\n",
    "  <li>Learn Basic Arithmetic Coding</li>\n",
    "</ul>"
   ]
  },
  {
   "cell_type": "markdown",
   "id": "7b24d93e-8dee-4e89-9322-0611e970afd5",
   "metadata": {},
   "source": [
    "Some of the popular languages that Data Scientists use are:"
   ]
  },
  {
   "cell_type": "markdown",
   "id": "62b0e06f-3a4d-4a32-ae57-d98802ff6800",
   "metadata": {},
   "source": [
    "<ol>\n",
    "  <li>Python</li>\n",
    "  <li>R</li>\n",
    "  <li>SQL</li>\n",
    "  <li>Java</li>\n",
    "</ol>"
   ]
  },
  {
   "cell_type": "markdown",
   "id": "726ca623-80c8-4009-87d2-9b6e3ce979ec",
   "metadata": {},
   "source": [
    "Some of the commonly used libraries used by Data Scientists include:"
   ]
  },
  {
   "cell_type": "markdown",
   "id": "1c42a308-2560-4714-91ec-98f6826fc5bf",
   "metadata": {},
   "source": [
    "<ol>\n",
    "  <li>NumPy</li>\n",
    "  <li>TensorFlow</li>\n",
    "  <li>Keras</li>\n",
    "</ol>\n"
   ]
  },
  {
   "cell_type": "markdown",
   "id": "2a7cbe40-c3e5-469b-bda0-58c67f925b65",
   "metadata": {},
   "source": [
    "Data Science Tools"
   ]
  },
  {
   "cell_type": "markdown",
   "id": "1fb18761-ed55-4b47-bf1b-a72bad9998b6",
   "metadata": {},
   "source": [
    "|Data Science Tools|\n",
    "-------------------\n",
    "|Kaggle|\n",
    "|JupyterLab|\n",
    "|JupyterHub|"
   ]
  },
  {
   "cell_type": "markdown",
   "id": "a49bce51-1608-416e-bc30-fbc11cb049e6",
   "metadata": {},
   "source": [
    "This a simple arithmetic expression to multiply then add integers"
   ]
  },
  {
   "cell_type": "markdown",
   "id": "84b026ea-6c5d-4550-af16-f4ca507f55f2",
   "metadata": {},
   "source": [
    "Below are a few examples of evaluating arithmetic expressions in Python"
   ]
  },
  {
   "cell_type": "code",
   "execution_count": 1,
   "id": "ff0fcfbe-41ba-4f74-8059-186c9b82243b",
   "metadata": {
    "tags": []
   },
   "outputs": [
    {
     "data": {
      "text/plain": [
       "17"
      ]
     },
     "execution_count": 1,
     "metadata": {},
     "output_type": "execute_result"
    }
   ],
   "source": [
    "(3*4)+5"
   ]
  },
  {
   "cell_type": "markdown",
   "id": "4cb91f4e-4334-40d7-a21e-5c11ba91dac2",
   "metadata": {},
   "source": [
    "This will convert 200 minutes to hours by dividing by 60"
   ]
  },
  {
   "cell_type": "code",
   "execution_count": 2,
   "id": "1f4d1074-7f19-4110-9f22-5fc918c001c3",
   "metadata": {
    "tags": []
   },
   "outputs": [
    {
     "data": {
      "text/plain": [
       "3.3333333333333335"
      ]
     },
     "execution_count": 2,
     "metadata": {},
     "output_type": "execute_result"
    }
   ],
   "source": [
    "200/60"
   ]
  },
  {
   "cell_type": "markdown",
   "id": "89727a2f-5834-4ac9-9397-496efbb33e2a",
   "metadata": {},
   "source": [
    "|Author|\n",
    "---------\n",
    "|<h2>Tiffany Reiss</h2>|"
   ]
  },
  {
   "cell_type": "markdown",
   "id": "666a2db1-97dd-4051-ab4d-2d3257a419a5",
   "metadata": {},
   "source": [
    "|Author|\n",
    "---------\n",
    "|<h2>Tiffany Reiss</h2>|"
   ]
  }
 ],
 "metadata": {
  "kernelspec": {
   "display_name": "Python",
   "language": "python",
   "name": "conda-env-python-py"
  },
  "language_info": {
   "codemirror_mode": {
    "name": "ipython",
    "version": 3
   },
   "file_extension": ".py",
   "mimetype": "text/x-python",
   "name": "python",
   "nbconvert_exporter": "python",
   "pygments_lexer": "ipython3",
   "version": "3.7.12"
  }
 },
 "nbformat": 4,
 "nbformat_minor": 5
}
